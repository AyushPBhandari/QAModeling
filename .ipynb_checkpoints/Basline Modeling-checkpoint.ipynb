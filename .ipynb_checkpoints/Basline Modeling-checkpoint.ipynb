{
 "cells": [
  {
   "cell_type": "code",
   "execution_count": 106,
   "metadata": {},
   "outputs": [],
   "source": [
    "import torch\n",
    "import nltk\n",
    "from nltk.corpus import stopwords\n",
    "import warnings\n",
    "import pickle\n",
    "import GloVe\n",
    "warnings.simplefilter(\"ignore\")\n",
    "\n",
    "import tensorflow as tf\n",
    "from tensorflow.python.keras.preprocessing.text import Tokenizer\n",
    "from tensorflow.python.keras.layers import Dense, Embedding, Input, Add, Dot, Reshape, Flatten\n",
    "from tensorflow.python.keras.optimizers import Adam\n",
    "from tensorflow.python.keras.preprocessing.sequence import skipgrams\n",
    "from tensorflow.python.keras.models import Model, load_model\n",
    "\n",
    "import tarfile\n",
    "from urllib.request import urlretrieve\n",
    "import os\n",
    "import nltk\n",
    "from scipy.sparse import csr_matrix, lil_matrix\n",
    "import numpy as np\n",
    "from scipy.sparse import save_npz, load_npz\n",
    "from tensorflow.python.keras import backend as K\n",
    "import random\n",
    "import matplotlib.pyplot as plt\n",
    "from tensorflow.python.keras.utils import plot_model\n",
    "import pandas as pd\n",
    "%matplotlib inline"
   ]
  },
  {
   "cell_type": "code",
   "execution_count": 28,
   "metadata": {},
   "outputs": [],
   "source": [
    "f = open('mySavedDict.txt', 'rb')\n",
    "data = pickle.load(f)\n",
    "f.close()"
   ]
  },
  {
   "cell_type": "code",
   "execution_count": 56,
   "metadata": {},
   "outputs": [],
   "source": [
    "contexts = []\n",
    "questions = []\n",
    "answers = []\n",
    "impossible = []\n",
    "titles = []\n",
    "for title, paragraphs in data.items():\n",
    "    titles.append(title)\n",
    "    for key, value in paragraphs.items():\n",
    "        if key == 'context':\n",
    "            contexts.append(value)\n",
    "        else:\n",
    "            questions.append(key)\n",
    "            answers.append(value['answers'])\n",
    "            impossible.append(value['impossible'])\n",
    "\n",
    "            \n",
    "            "
   ]
  },
  {
   "cell_type": "code",
   "execution_count": 57,
   "metadata": {},
   "outputs": [
    {
     "data": {
      "text/plain": [
       "0"
      ]
     },
     "execution_count": 57,
     "metadata": {},
     "output_type": "execute_result"
    }
   ],
   "source": [
    "len(questions) - len(answers) # each question has merely one answer"
   ]
  },
  {
   "cell_type": "code",
   "execution_count": 76,
   "metadata": {},
   "outputs": [],
   "source": [
    "contextWords = [[context[i].split()] for i in range(len(context))]\n",
    "questionWords = [[questions[i].split()] for i in range(len(questions))]\n",
    "answerWords = []\n",
    "for i in range(len(answers)):\n",
    "    if len(answers[i]) > 0:\n",
    "        current = answers[i][0].split()\n",
    "    else:\n",
    "        current = \"\"\n",
    "    answerWords.append(current)\n",
    "        \n",
    "        \n",
    "    "
   ]
  },
  {
   "cell_type": "code",
   "execution_count": 107,
   "metadata": {},
   "outputs": [],
   "source": [
    "stop_words = stopwords.words('english')"
   ]
  },
  {
   "cell_type": "code",
   "execution_count": 115,
   "metadata": {},
   "outputs": [],
   "source": [
    "questions1 = []\n",
    "for question in questions:\n",
    "    ques1 = []\n",
    "    ques = question.split()\n",
    "    for word in ques:\n",
    "        if word not in stop_words:\n",
    "            ques1.append(word)\n",
    "    questions1.append(ques1)\n",
    "    \n",
    "answers1 = []\n",
    "for answer in answers:\n",
    "    ques1 = []\n",
    "    ques = question.split()\n",
    "    for word in ques:\n",
    "        if word not in stop_words:\n",
    "            ques1.append(word)\n",
    "    questions1.append(ques1)\n",
    "            \n",
    "\n"
   ]
  },
  {
   "cell_type": "code",
   "execution_count": 112,
   "metadata": {},
   "outputs": [
    {
     "data": {
      "text/plain": [
       "['When', 'did', 'Beyonce', 'start', 'becoming', 'popular?']"
      ]
     },
     "execution_count": 112,
     "metadata": {},
     "output_type": "execute_result"
    }
   ],
   "source": [
    "questions[0].split()"
   ]
  },
  {
   "cell_type": "code",
   "execution_count": null,
   "metadata": {},
   "outputs": [],
   "source": []
  },
  {
   "cell_type": "code",
   "execution_count": null,
   "metadata": {},
   "outputs": [],
   "source": []
  }
 ],
 "metadata": {
  "kernelspec": {
   "display_name": "Python 3",
   "language": "python",
   "name": "python3"
  },
  "language_info": {
   "codemirror_mode": {
    "name": "ipython",
    "version": 3
   },
   "file_extension": ".py",
   "mimetype": "text/x-python",
   "name": "python",
   "nbconvert_exporter": "python",
   "pygments_lexer": "ipython3",
   "version": "3.7.1"
  }
 },
 "nbformat": 4,
 "nbformat_minor": 2
}
